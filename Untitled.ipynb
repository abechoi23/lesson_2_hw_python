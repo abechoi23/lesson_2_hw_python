{
 "cells": [
  {
   "cell_type": "code",
   "execution_count": 1,
   "id": "b96d6841",
   "metadata": {},
   "outputs": [
    {
     "name": "stdout",
     "output_type": "stream",
     "text": [
      "  ths s  tst fr smthng\n"
     ]
    }
   ],
   "source": [
    "def vowel(string):\n",
    "    vowels = \"aeiouAEIOU\"\n",
    "    out_string = \" \"\n",
    "    for letter in string:\n",
    "        if letter not in vowels:\n",
    "            out_string+= letter\n",
    "    return out_string\n",
    "\n",
    "print(vowel(\"A this is a test for something\"))"
   ]
  },
  {
   "cell_type": "code",
   "execution_count": null,
   "id": "43d56126",
   "metadata": {},
   "outputs": [],
   "source": []
  }
 ],
 "metadata": {
  "kernelspec": {
   "display_name": "Python 3 (ipykernel)",
   "language": "python",
   "name": "python3"
  },
  "language_info": {
   "codemirror_mode": {
    "name": "ipython",
    "version": 3
   },
   "file_extension": ".py",
   "mimetype": "text/x-python",
   "name": "python",
   "nbconvert_exporter": "python",
   "pygments_lexer": "ipython3",
   "version": "3.9.13"
  }
 },
 "nbformat": 4,
 "nbformat_minor": 5
}
